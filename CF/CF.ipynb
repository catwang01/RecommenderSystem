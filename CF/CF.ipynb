{
 "cells": [
  {
   "cell_type": "markdown",
   "metadata": {},
   "source": [
    "[toc]\n",
    "\n",
    "# 协同过滤面试题"
   ]
  },
  {
   "cell_type": "markdown",
   "metadata": {},
   "source": [
    "## 1. UserCF 和 ItemCF 的原理"
   ]
  },
  {
   "cell_type": "markdown",
   "metadata": {},
   "source": [
    "### 1. UserCF 的原理"
   ]
  },
  {
   "cell_type": "markdown",
   "metadata": {},
   "source": [
    "协同过滤的原理是物以类聚，人以群分。\n",
    "\n",
    "其中，UserCF 的原理是用和某个 User 相似的用户对某个物品的评分来对该用户对于这个物品的评分进行预测。计算步骤主要有两步\n",
    "\n",
    "1. 计算用户相似度矩阵。相似度的度量通常使用余弦相似度进行度量的。\n",
    "2. 将目标用户的周围的 k 个用户的结果进行加权平均来得到目标用户对于某个物品的评分。\n",
    "\n",
    "$$p(u, i) = \\sum_{v \\in S(u, k) \\cap N(i)} sim(u, v) r_{vi}$$\n",
    "\n",
    "其中，$p(u,i)$ 表示用户 u 对于物品 i 的兴趣度，而 $S(u, k)$ 表示用户 u 的 k 个最近的邻居。 $N(i)$ 表示和物品 i 有过交互行为用户，$r_{vi}$ 表示用户 v 对于物品 i 的兴趣度。"
   ]
  },
  {
   "cell_type": "markdown",
   "metadata": {},
   "source": [
    "余弦相似度定义为\n",
    "\n",
    "$$\n",
    "sim(u, v) = \\frac{| N(u) \\cap N(v)|}{\\sqrt{|N(u)| |N(v)|}}\n",
    "$$\n"
   ]
  },
  {
   "cell_type": "markdown",
   "metadata": {},
   "source": [
    "#### iif 加权"
   ]
  },
  {
   "cell_type": "markdown",
   "metadata": {},
   "source": [
    "新华字典问题。热门物品对于两个人的相似度的贡献比较低。因此做加权 $ \\frac{1}{log 1 + |N(i)|}$"
   ]
  },
  {
   "cell_type": "markdown",
   "metadata": {
    "ExecuteTime": {
     "end_time": "2020-07-16T07:42:44.741523Z",
     "start_time": "2020-07-16T07:42:44.729893Z"
    }
   },
   "source": [
    "iif加权后的余弦相似度定义为\n",
    "\n",
    "$$\n",
    "sim(u, v) = \\sum_{i \\in N(u) \\cap N(v) } \\frac{\\frac{1}{log 1 + |N(i)|}}{\\sqrt{|N(u)| |N(v)|}}\n",
    "$$"
   ]
  },
  {
   "cell_type": "markdown",
   "metadata": {},
   "source": [
    "### 2. ItemCF 的原理"
   ]
  },
  {
   "cell_type": "markdown",
   "metadata": {},
   "source": [
    "ItemCF 的原理是用某个人的历史信息来预测这个人未来的行为。\n",
    "计算步骤主要有两步\n",
    "\n",
    "1. 计算物品相似度矩阵。相似度可以采取不同的相似度定义方式。通常使用余弦相似度及其变种。\n",
    "2. 根据物品相似度矩阵来计算某个用户对某个物品的兴趣度。\n",
    "\n",
    "$$p(u, i) = \\sum_{j \\in S(i, k) \\cap N(u)} sim(i, j) r_{uj}$$\n",
    "\n",
    "其中，$p(u,i)$ 表示用户 u 对于物品 i 的兴趣度，而 $S(j, k)$ 表示物品 $j$ 的 k 个最近的商品。 $N(u)$ 表示和用户 $u$ 有过交互行为物品，即用户 u 曾经购买过的物品。 $r_{vi}$ 表示用户 v 对于物品 i 的兴趣度。"
   ]
  },
  {
   "cell_type": "markdown",
   "metadata": {},
   "source": [
    "余弦相似度定义为\n",
    "\n",
    "$$\n",
    "sim(i, j) = \\frac{| N(i) \\cap N(j)|}{\\sqrt{|N(i)| |N(j)|}}\n",
    "$$\n",
    "\n"
   ]
  },
  {
   "cell_type": "markdown",
   "metadata": {},
   "source": [
    "### iuf 加权"
   ]
  },
  {
   "cell_type": "markdown",
   "metadata": {},
   "source": [
    "对于活跃用户来说，其贡献度应该加以惩罚。如某个人要开书店，他买了许多本书，那么他和许多种书的相似度都不为0。但是，这个人买的书并不能代表偏好。因此，对于这种购买了很多书的用户的权重应该减少。"
   ]
  },
  {
   "cell_type": "markdown",
   "metadata": {},
   "source": [
    "余弦相似度定义为\n",
    "\n",
    "$$\n",
    "sim(i, j) = \\sum_{u \\in N(i) \\cap N(j) }\\frac{ \\frac{1}{log 1 + | N(u) | }}{\\sqrt{|N(i)| |N(j)|}}\n",
    "$$\n",
    "\n"
   ]
  },
  {
   "cell_type": "markdown",
   "metadata": {},
   "source": [
    "## 2. UserCF 和 ItemCF 的比较"
   ]
  },
  {
   "cell_type": "markdown",
   "metadata": {},
   "source": [
    "## ![](https://gitee.com/EdwardElric_1683260718/picture_bed/raw/master/img/20200716155730.png)"
   ]
  },
  {
   "cell_type": "markdown",
   "metadata": {},
   "source": [
    "# References\n",
    "1. 项亮 推荐系统"
   ]
  }
 ],
 "metadata": {
  "hide_input": false,
  "kernelspec": {
   "display_name": "Python 3.6.10 64-bit ('tensorflow2': conda)",
   "language": "python",
   "name": "python361064bittensorflow2conda916f6dc8789a43e39b82205c8a731f83"
  },
  "language_info": {
   "codemirror_mode": {
    "name": "ipython",
    "version": 3
   },
   "file_extension": ".py",
   "mimetype": "text/x-python",
   "name": "python",
   "nbconvert_exporter": "python",
   "pygments_lexer": "ipython3",
   "version": "3.6.10"
  },
  "toc": {
   "base_numbering": 1,
   "nav_menu": {},
   "number_sections": true,
   "sideBar": true,
   "skip_h1_title": false,
   "title_cell": "Table of Contents",
   "title_sidebar": "Contents",
   "toc_cell": false,
   "toc_position": {
    "height": "calc(100% - 180px)",
    "left": "10px",
    "top": "150px",
    "width": "165px"
   },
   "toc_section_display": true,
   "toc_window_display": true
  },
  "varInspector": {
   "cols": {
    "lenName": 16,
    "lenType": 16,
    "lenVar": 40
   },
   "kernels_config": {
    "python": {
     "delete_cmd_postfix": "",
     "delete_cmd_prefix": "del ",
     "library": "var_list.py",
     "varRefreshCmd": "print(var_dic_list())"
    },
    "r": {
     "delete_cmd_postfix": ") ",
     "delete_cmd_prefix": "rm(",
     "library": "var_list.r",
     "varRefreshCmd": "cat(var_dic_list()) "
    }
   },
   "types_to_exclude": [
    "module",
    "function",
    "builtin_function_or_method",
    "instance",
    "_Feature"
   ],
   "window_display": false
  }
 },
 "nbformat": 4,
 "nbformat_minor": 2
}

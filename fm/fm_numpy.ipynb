{
 "cells": [
  {
   "cell_type": "markdown",
   "metadata": {
    "pycharm": {}
   },
   "source": [
    "[toc]\n",
    " \n",
    "# 推荐系统笔记 -- FM 模型 -- Numpy 实现"
   ]
  },
  {
   "cell_type": "markdown",
   "source": [
    "之前我们学习了关于 FM 模型的理论相关的内容。接下来我们进行实践，用 Numpy 来实现 FM 模型。"
   ],
   "metadata": {
    "collapsed": false,
    "pycharm": {
     "name": "#%% md\n"
    }
   }
  },
  {
   "cell_type": "code",
   "execution_count": 29,
   "metadata": {
    "ExecuteTime": {
     "end_time": "2020-07-30T07:33:54.554692Z",
     "start_time": "2020-07-30T07:33:49.774857Z"
    }
   },
   "outputs": [],
   "source": [
    "import numpy as np\n",
    "from matplotlib import pyplot as plt\n",
    "import tensorflow as tf\n",
    "\n",
    "n_samples = 5\n",
    "n_features = 10\n",
    "n_factors = 3"
   ]
  },
  {
   "cell_type": "markdown",
   "source": [
    "初始化变量"
   ],
   "metadata": {
    "collapsed": false,
    "pycharm": {
     "name": "#%% md\n"
    }
   }
  },
  {
   "cell_type": "code",
   "execution_count": 30,
   "outputs": [],
   "source": [
    "np.random.seed(123)\n",
    "x = np.random.normal(size=(n_samples, n_features))\n",
    "y = np.random.normal(size=(n_samples,))\n",
    "w0 =  0.0\n",
    "w1 = np.random.normal(size=(n_features, 1))\n",
    "v = np.random.normal(size=(n_features, n_factors))"
   ],
   "metadata": {
    "collapsed": false,
    "pycharm": {
     "name": "#%%\n"
    }
   }
  },
  {
   "cell_type": "code",
   "execution_count": 31,
   "metadata": {
    "ExecuteTime": {
     "end_time": "2020-07-30T07:33:31.651825Z",
     "start_time": "2020-07-30T07:33:31.649012Z"
    }
   },
   "outputs": [],
   "source": [
    "def mse(y, yhat):\n",
    "    return np.mean((y-yhat)**2)"
   ]
  },
  {
   "cell_type": "markdown",
   "source": [
    "## 前向传播过程"
   ],
   "metadata": {
    "collapsed": false,
    "pycharm": {
     "name": "#%% md\n"
    }
   }
  },
  {
   "cell_type": "code",
   "execution_count": 32,
   "metadata": {},
   "outputs": [],
   "source": [
    "def forward(x, w0, w1, v):\n",
    "    y = w0 + np.matmul(x, w1).squeeze() + 1/2 * np.sum(np.square(np.matmul(x, v)) - np.matmul(np.square(x), np.square(v)), axis=1)\n",
    "    return y"
   ]
  },
  {
   "cell_type": "markdown",
   "source": [
    "## 反向传播\n",
    "\n",
    "定义反向传播过程，这个过程相对于前向传播要复杂一些。"
   ],
   "metadata": {
    "collapsed": false,
    "pycharm": {
     "name": "#%% md\n"
    }
   }
  },
  {
   "cell_type": "code",
   "execution_count": 33,
   "metadata": {},
   "outputs": [],
   "source": [
    "def backward(yhat, y, batch_x, w0, w1, v):\n",
    "\n",
    "    dyhat = -2 * (y - yhat)\n",
    "\n",
    "    n_samples = batch_x.shape[0]\n",
    "    n_factors = v.shape[1]\n",
    "\n",
    "    dw0 = np.sum(dyhat) / n_samples\n",
    "    dw1 = batch_x.T @ dyhat / n_samples\n",
    "    dw1 = dw1[:, np.newaxis]\n",
    "\n",
    "    dv = np.zeros_like(v)\n",
    "    for i in range(n_samples):\n",
    "        x = batch_x[i][np.newaxis, :]\n",
    "        dv += dyhat[i] * (x.T @ x @ v)\n",
    "    dv -=  np.square(batch_x.T) @ dyhat[:, np.newaxis] @ np.ones(shape=[1, n_factors]) * v\n",
    "    dv /= n_samples\n",
    "    return dw0, dw1, dv\n",
    "\n",
    "def apply_graidents(grads, variables, lr=0.001):\n",
    "    for i in range(len(grads)):\n",
    "        variables[i] -= lr * grads[i]"
   ]
  },
  {
   "cell_type": "markdown",
   "source": [
    "## 梯度检验\n",
    "\n",
    "为了保证我们计算的梯度是正确的，这里我们使用 tensorflow 来进行求导，和我们的求导结果进行对比，验证结果是否正确。"
   ],
   "metadata": {
    "collapsed": false,
    "pycharm": {
     "name": "#%% md\n"
    }
   }
  },
  {
   "cell_type": "code",
   "execution_count": 34,
   "metadata": {},
   "outputs": [
    {
     "name": "stdout",
     "output_type": "stream",
     "text": [
      "236.92758855609935\n",
      "Check whether gradients were computed correctly\n",
      "Gradients computed:  (-17.311901123456856, array([[  7.80684712],\n",
      "       [-27.66410954],\n",
      "       [-17.83897493],\n",
      "       [  7.93775282],\n",
      "       [ 19.55395587],\n",
      "       [ -4.54315317],\n",
      "       [ -5.87875768],\n",
      "       [ -6.16395954],\n",
      "       [-19.71319761],\n",
      "       [ 11.45915318]]), array([[ 2.11818570e+01, -6.08334396e+00,  4.22278303e+01],\n",
      "       [-3.82438873e+01,  3.21425002e+01, -3.70960365e+01],\n",
      "       [-5.61884141e+01,  6.58812466e+01, -3.58850301e+01],\n",
      "       [-3.99272474e+01,  2.70554706e+01,  4.33904374e+01],\n",
      "       [ 8.02143941e+00, -1.08890581e+01, -4.23398091e+00],\n",
      "       [ 1.20978497e-01, -4.14710441e+00, -2.95937881e+01],\n",
      "       [ 1.20338390e+02, -3.19615767e+01, -6.65250996e-01],\n",
      "       [-3.02180415e+01, -6.22813298e+01,  1.33312167e+02],\n",
      "       [-2.19122481e+01,  4.27014043e+01, -7.50172741e+01],\n",
      "       [ 1.44543466e+01,  1.61380697e+01,  1.26757992e+01]]))\n",
      "Gradients compute by Tensorflow2:  [<tf.Tensor: shape=(), dtype=float32, numpy=-17.311903>, <tf.Tensor: shape=(10, 1), dtype=float32, numpy=\n",
      "array([[  7.806848 ],\n",
      "       [-27.66411  ],\n",
      "       [-17.838976 ],\n",
      "       [  7.9377546],\n",
      "       [ 19.553957 ],\n",
      "       [ -4.543155 ],\n",
      "       [ -5.878754 ],\n",
      "       [ -6.1639614],\n",
      "       [-19.7132   ],\n",
      "       [ 11.459156 ]], dtype=float32)>, <tf.Tensor: shape=(10, 3), dtype=float32, numpy=\n",
      "array([[ 2.11818619e+01, -6.08334970e+00,  4.22278442e+01],\n",
      "       [-3.82438965e+01,  3.21424866e+01, -3.70960274e+01],\n",
      "       [-5.61884117e+01,  6.58812408e+01, -3.58850250e+01],\n",
      "       [-3.99272423e+01,  2.70554657e+01,  4.33904381e+01],\n",
      "       [ 8.02143860e+00, -1.08890572e+01, -4.23397923e+00],\n",
      "       [ 1.20977402e-01, -4.14710331e+00, -2.95937958e+01],\n",
      "       [ 1.20338394e+02, -3.19615765e+01, -6.65237427e-01],\n",
      "       [-3.02180443e+01, -6.22813301e+01,  1.33312195e+02],\n",
      "       [-2.19122448e+01,  4.27014084e+01, -7.50172882e+01],\n",
      "       [ 1.44543533e+01,  1.61380692e+01,  1.26757984e+01]], dtype=float32)>]\n"
     ]
    }
   ],
   "source": [
    "def gradient_check(x, y, w0, w1, v):\n",
    "    if x.ndim == 1:\n",
    "        x = x[np.newaxis, :]\n",
    "    x = tf.constant(x, dtype=tf.float32)\n",
    "    y = tf.constant(y, dtype=tf.float32)\n",
    "    w0 = tf.Variable(w0, dtype=tf.float32)\n",
    "    w1 = tf.Variable(w1, dtype=tf.float32)\n",
    "    v = tf.Variable(v, dtype=tf.float32)\n",
    "    with tf.GradientTape() as tape:\n",
    "        yhat = w0 + tf.squeeze(tf.matmul(x, w1)) + 1 / 2 * tf.reduce_sum(tf.square(tf.matmul(x, v)) - tf.matmul(tf.square(x), tf.square(v)), axis=1)\n",
    "        loss = tf.reduce_mean((y - yhat) ** 2)\n",
    "    grads = tape.gradient(loss, [w0, w1, v])\n",
    "    return grads\n",
    "\n",
    "def check(x, y, w0, w1, v):\n",
    "    yhat = forward(x, w0, w1, v)\n",
    "    print(mse(y, yhat))\n",
    "    grads = backward(yhat, y, x, w0, w1, v)\n",
    "    grads_tf = gradient_check(x, y, w0, w1, v)\n",
    "    print(\"Check whether gradients were computed correctly\")\n",
    "    print(\"Gradients computed: \", grads)\n",
    "    print(\"Gradients compute by Tensorflow2: \", grads_tf)\n",
    "\n",
    "# 检查梯度计算是否正确\n",
    "check(x, y, w0, w1, v)"
   ]
  },
  {
   "cell_type": "markdown",
   "source": [
    "可以看到，结果是一致的，说明我们的求导结果是正确的。"
   ],
   "metadata": {
    "collapsed": false,
    "pycharm": {
     "name": "#%% md\n"
    }
   }
  },
  {
   "cell_type": "markdown",
   "source": [
    "## 模型训练与可视化"
   ],
   "metadata": {
    "collapsed": false,
    "pycharm": {
     "name": "#%% md\n"
    }
   }
  },
  {
   "cell_type": "code",
   "execution_count": 35,
   "metadata": {},
   "outputs": [
    {
     "name": "stdout",
     "output_type": "stream",
     "text": [
      "Epoch: 0/100 Loss: 236.92758855609935\n",
      "Epoch: 10/100 Loss: 32.56128284916266\n",
      "Epoch: 20/100 Loss: 10.021678878504991\n",
      "Epoch: 30/100 Loss: 3.524252517255276\n",
      "Epoch: 40/100 Loss: 1.3233504656952677\n",
      "Epoch: 50/100 Loss: 0.5185948595239448\n",
      "Epoch: 60/100 Loss: 0.20917091065261778\n",
      "Epoch: 70/100 Loss: 0.08600919014581362\n",
      "Epoch: 80/100 Loss: 0.03581744785404618\n",
      "Epoch: 90/100 Loss: 0.015038720659917914\n"
     ]
    }
   ],
   "source": [
    "history = {\"train_loss\": []}\n",
    "n_epochs = 100\n",
    "for epoch in range(n_epochs):\n",
    "    yhat = forward(x, w0, w1, v)\n",
    "    loss_  = mse(y, yhat)\n",
    "    grads = backward(yhat, y, x, w0, w1, v)\n",
    "    apply_graidents(grads, [w0, w1, v])\n",
    "    if epoch % 10 == 0:\n",
    "        print(f\"Epoch: {epoch}/{n_epochs} Loss: {loss_}\")\n",
    "    history['train_loss'].append(loss_)"
   ]
  },
  {
   "cell_type": "markdown",
   "source": [
    "可视化"
   ],
   "metadata": {
    "collapsed": false,
    "pycharm": {
     "name": "#%% md\n"
    }
   }
  },
  {
   "cell_type": "code",
   "execution_count": 36,
   "outputs": [
    {
     "data": {
      "text/plain": "[<matplotlib.lines.Line2D at 0x13f77e0f0>]"
     },
     "execution_count": 36,
     "metadata": {},
     "output_type": "execute_result"
    },
    {
     "data": {
      "text/plain": "Text(0.5, 1.0, 'Loss')"
     },
     "execution_count": 36,
     "metadata": {},
     "output_type": "execute_result"
    },
    {
     "data": {
      "text/plain": "<Figure size 432x288 with 1 Axes>",
      "image/png": "[encoded data removed]"
     },
     "metadata": {
      "needs_background": "light"
     },
     "output_type": "display_data"
    },
    {
     "name": "stdout",
     "output_type": "stream",
     "text": [
      "[-1.29408532 -1.03878821  1.74371223 -0.79806274  0.02968323]\n",
      "[-1.30252685 -1.18633445  1.73018938 -0.77142474  0.12457443]\n"
     ]
    }
   ],
   "source": [
    "# 绘制loss曲线\n",
    "plt.ion()\n",
    "plt.plot(history['train_loss'])\n",
    "plt.title(\"Loss\")\n",
    "plt.pause(0.05)\n",
    "plt.close()\n",
    "\n",
    "# 输出结果查看准确性\n",
    "print(y)\n",
    "print(forward(x, w0, w1, v))"
   ],
   "metadata": {
    "collapsed": false,
    "pycharm": {
     "name": "#%%\n"
    }
   }
  }
 ],
 "metadata": {
  "hide_input": false,
  "kernelspec": {
   "name": "python3",
   "language": "python",
   "display_name": "Python 3"
  },
  "language_info": {
   "codemirror_mode": {
    "name": "ipython",
    "version": 3
   },
   "file_extension": ".py",
   "mimetype": "text/x-python",
   "name": "python",
   "nbconvert_exporter": "python",
   "pygments_lexer": "ipython3",
   "version": "3.6.10"
  },
  "toc": {
   "base_numbering": 1,
   "nav_menu": {},
   "number_sections": true,
   "sideBar": true,
   "skip_h1_title": false,
   "title_cell": "Table of Contents",
   "title_sidebar": "Contents",
   "toc_cell": false,
   "toc_position": {},
   "toc_section_display": true,
   "toc_window_display": false
  },
  "varInspector": {
   "cols": {
    "lenName": 16,
    "lenType": 16,
    "lenVar": 40
   },
   "kernels_config": {
    "python": {
     "delete_cmd_postfix": "",
     "delete_cmd_prefix": "del ",
     "library": "var_list.py",
     "varRefreshCmd": "print(var_dic_list())"
    },
    "r": {
     "delete_cmd_postfix": ") ",
     "delete_cmd_prefix": "rm(",
     "library": "var_list.r",
     "varRefreshCmd": "cat(var_dic_list()) "
    }
   },
   "types_to_exclude": [
    "module",
    "function",
    "builtin_function_or_method",
    "instance",
    "_Feature"
   ],
   "window_display": false
  }
 },
 "nbformat": 4,
 "nbformat_minor": 2
}
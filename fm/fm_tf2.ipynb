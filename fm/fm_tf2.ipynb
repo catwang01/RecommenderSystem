{
 "cells": [
  {
   "cell_type": "markdown",
   "source": [
    "[toc]\n",
    "\n",
    "# 推荐系统笔记 -- FM 模型 -- Tensorflow2 实现\n",
    "\n",
    "上一个 blog，我们使用了 Numpy 从零开始实现了 FM 模型，下面我们使用 Tensorflow2 来实现一次。经过上一个 Blog 的历练，使用 Tensorflow2 来实现就十分简单了。因为我们不需要手动计算倒数，而只需要定义前向传播的过程就可以使用 Tensorflow2 来自动进行反向传播。\n",
    "\n",
    "代码如下，和 Numpy 实现基本一致："
   ],
   "metadata": {
    "collapsed": false,
    "pycharm": {
     "name": "#%% md\n"
    }
   }
  },
  {
   "cell_type": "code",
   "execution_count": null,
   "metadata": {
    "collapsed": true,
    "pycharm": {
     "name": "#%%\n"
    }
   },
   "outputs": [],
   "source": [
    "import tensorflow as tf\n",
    "from matplotlib import pyplot as plt\n",
    "import numpy as np\n",
    "\n",
    "m = 5\n",
    "n = 10\n",
    "k = 3\n",
    "\n",
    "np.random.seed(123)\n",
    "x = tf.constant(np.random.normal(size=(m, n)), dtype=tf.float32)\n",
    "y = tf.constant(np.random.normal(size=(m, )), dtype=tf.float32)\n",
    "w0 =  tf.Variable(0.0)\n",
    "w1 = tf.Variable(np.random.normal(size=(n, 1)), dtype=tf.float32)\n",
    "v = tf.Variable(np.random.normal(size=(n, k)), dtype=tf.float32)\n",
    "\n",
    "def forward(x, w0, w1, v):\n",
    "    linear = w0 +  tf.squeeze(tf.matmul(x, w1))\n",
    "    y =  linear + 1/2 * tf.reduce_mean(tf.matmul(x, v) ** 2 - tf.matmul(x ** 2, v ** 2), axis=1)\n",
    "    return y\n",
    "\n",
    "optizmier = tf.keras.optimizers.SGD(lr=0.001)\n",
    "\n",
    "loss_list = []\n",
    "n_epochs = 1000\n",
    "for epoch in range(n_epochs):\n",
    "    with tf.GradientTape() as tape:\n",
    "        yhat = forward(x, w0, w1, v)\n",
    "        mse = tf.reduce_mean(tf.losses.mse(y, yhat))\n",
    "    grads = tape.gradient(mse, [w0, w1, v])\n",
    "    optizmier.apply_gradients(zip(grads, [w0, w1, v]))\n",
    "    loss_list.append(mse.numpy())\n",
    "\n",
    "plt.ion()\n",
    "plt.plot(loss_list)\n",
    "plt.title(\"Loss\")\n",
    "plt.pause(0.05)\n",
    "plt.close()\n",
    "\n",
    "print(y)\n",
    "print(forward(x, w0, w1, v))"
   ]
  }
 ],
 "metadata": {
  "kernelspec": {
   "display_name": "Python 3",
   "language": "python",
   "name": "python3"
  },
  "language_info": {
   "codemirror_mode": {
    "name": "ipython",
    "version": 2
   },
   "file_extension": ".py",
   "mimetype": "text/x-python",
   "name": "python",
   "nbconvert_exporter": "python",
   "pygments_lexer": "ipython2",
   "version": "2.7.6"
  }
 },
 "nbformat": 4,
 "nbformat_minor": 0
}
{
 "cells": [
  {
   "cell_type": "markdown",
   "metadata": {},
   "source": [
    "---\n",
    "title: 推荐系统笔记 1 -- LFM 算法\n",
    "tags: 小书匠,mf,Recommender|推荐系统\n",
    "grammar_cjkRuby: true\n",
    "# renderNumberedHeading: true\n",
    "---\n",
    "\n",
    "[toc!]\n",
    "\n",
    "# 推荐系统笔记 1 -- LFM 算法"
   ]
  },
  {
   "cell_type": "markdown",
   "metadata": {},
   "source": [
    "## 理论\n",
    "\n",
    "Matrix Factorization 是一种比较传统的推荐算法。\n",
    "\n",
    "矩阵分解有许多种算法。这里介绍的是一种在推荐系统中常见的算法 LFM（latent factor model）\n",
    "\n",
    "\n",
    "基于矩阵分解进行用户推荐的思想是填补用户的评分矩阵。\n",
    "\n",
    "假设目前有用户的评分矩阵 $R \\in R^{n \\times m}$ ，横向代表用户，纵向代表物品\n",
    "\n",
    "\n",
    "LFM 认为, 用户和物品可以分别被一个 k 维的 latent factor 表示. 记用户 i  对应的隐向量为 $u_i \\in R^k$ , 记物品 j 对应的隐向量为 $v_j \\in R^k$ ,则LFM模型认为, 用户 i 对于物品 j 的打分为 $u_i \\cdot v_j$ .\n",
    "\n",
    "记 $S = \\{(i, j) | \\text{用户 i 给物品 j 打过分} \\}$\n",
    "\n",
    "loss 取为 \n",
    "\n",
    "$$\n",
    "L = \\sum_{(i,j) \\in S} (R_{ij} - U_iV_j^T)^2 + \\lambda \\left( \\sum_{i=1}^{n} \\| U_i \\|^2_2   + \\sum_{j=1}^{m} \\| V_j \\|_2^2 \\right)\n",
    "$$\n",
    "\n",
    "这个实际是就是 mse 加了正则项\n",
    "\n",
    "求梯度\n",
    "\n",
    "$$\n",
    "\\begin{aligned}\n",
    "    \\frac{\\partial L}{\\partial U_i} &= - 2 ( R_{ij} - U_iV_j^T )  V_j  + 2 U_i \\\\ \n",
    "    \\frac{\\partial L}{\\partial V_j} &= - 2 ( R_{ij} - U_iV_j^T )  U_i  + 2 V_j\n",
    ".\\end{aligned}\n",
    "$$ \n",
    "\n",
    "因此可以使用 梯度下降来解决这个问题。\n",
    "\n",
    "## 实现\n",
    "\n",
    "### 基于 Numpy 的实现\n",
    "\n",
    "#### 1. 导入必要的包并进行数据准备"
   ]
  },
  {
   "cell_type": "code",
   "execution_count": 6,
   "metadata": {},
   "outputs": [],
   "source": [
    "import numpy as np\n",
    "from matplotlib import pyplot as plt\n",
    "\n",
    "R = np.array([[5, 5, 0, 5], [5, 0, 3, 4], [3, 4, 0, 3], [0, 0, 5, 3],\n",
    "              [5, 4, 4, 5], [5, 4, 5, 5]])\n",
    "\n",
    "n = 6 # 用户数\n",
    "m = 4 # 物品数\n",
    "k = 3 # 隐向量的维数\n",
    "np.random.seed(123)\n",
    "U = np.random.randn(n, k)\n",
    "V = np.random.randn(m, k)"
   ]
  },
  {
   "cell_type": "markdown",
   "metadata": {},
   "source": [
    "#### 2. 定义 loss"
   ]
  },
  {
   "cell_type": "code",
   "execution_count": 7,
   "metadata": {},
   "outputs": [],
   "source": [
    "def loss(R, U, V, lambda_=0.01):\n",
    "    mask = R > 0\n",
    "    l = ((R - np.matmul(U, V.T))**2 * mask).sum()\n",
    "    l += lambda_ * np.linalg.norm(U)\n",
    "    l += lambda_ * np.linalg.norm(V)\n",
    "    return l"
   ]
  },
  {
   "cell_type": "markdown",
   "metadata": {},
   "source": [
    "#### 3. 定义参数更新步骤"
   ]
  },
  {
   "cell_type": "code",
   "execution_count": 8,
   "metadata": {},
   "outputs": [],
   "source": [
    "def update(R, U, V, lr=0.02, lambda_=0.01):\n",
    "    nrow, ncol = R.shape[0], R.shape[1]\n",
    "    for i in range(nrow):\n",
    "        for j in range(ncol):\n",
    "            if R[i][j] != 0:\n",
    "                error = R[i][j] - np.dot(U[i], V[j])\n",
    "                dui = -2 * error * V[j] + 2 * lambda_ * U[i]\n",
    "                dvj = -2 * error * U[i] + 2 * lambda_ * V[j]\n",
    "                U[i] -= lr * dui\n",
    "                V[j] -= lr * dvj"
   ]
  },
  {
   "cell_type": "markdown",
   "metadata": {},
   "source": [
    "#### 4. 训练并打印结果"
   ]
  },
  {
   "cell_type": "code",
   "execution_count": 9,
   "metadata": {},
   "outputs": [
    {
     "data": {
      "image/png": "[encoded data removed]",
      "text/plain": [
       "<Figure size 432x288 with 1 Axes>"
      ]
     },
     "metadata": {
      "needs_background": "light"
     },
     "output_type": "display_data"
    },
    {
     "name": "stdout",
     "output_type": "stream",
     "text": [
      "用户隐向量 U:  [[-1.04568902  0.12687525  2.23828397]\n",
      " [-0.19355381  0.08477336  2.08792848]\n",
      " [-0.7077599  -1.12493478  1.41477264]\n",
      " [-2.08515214 -1.05210444  0.91756449]\n",
      " [-0.87329857  0.81976993  2.13159532]\n",
      " [-1.35773196  1.14384416  2.11048642]]\n",
      "物品隐向量 V:  [[ 0.19686727  0.19309862  2.36530044]\n",
      " [-0.19152379 -0.72516055  2.14070428]\n",
      " [-1.78347324 -0.11144921  1.24702352]\n",
      " [-0.67795314  0.14087865  1.89789664]]\n",
      "实际数据阵:  [[5 5 0 5]\n",
      " [5 0 3 4]\n",
      " [3 4 0 3]\n",
      " [0 0 5 3]\n",
      " [5 4 4 5]\n",
      " [5 4 5 5]]\n",
      "预测数据阵:  [[5.11285155 4.89977347 4.64201099 4.97483379]\n",
      " [4.91684334 4.44523329 2.93944604 4.10583561]\n",
      " [2.98980422 3.97992101 3.15189868 3.00644098]\n",
      " [1.55665757 3.1265351  4.98029375 3.00685895]\n",
      " [5.02823588 4.13590786 4.12429142 4.75309118]\n",
      " [4.94551619 3.94849462 4.92582429 5.08710694]]\n"
     ]
    }
   ],
   "source": [
    "loss_list = []\n",
    "n_epochs = 100\n",
    "for epoch in range(n_epochs):\n",
    "    update(R, U, V)\n",
    "    loss_list.append(loss(R, U, V))\n",
    "\n",
    "plt.plot(loss_list)\n",
    "plt.title(\"loss\")\n",
    "plt.show()\n",
    "\n",
    "print(\"用户隐向量 U: \", U)\n",
    "print(\"物品隐向量 V: \", V)\n",
    "print(\"实际数据阵: \", R)\n",
    "print(\"预测数据阵: \", np.matmul(U, V.T))"
   ]
  },
  {
   "cell_type": "markdown",
   "metadata": {},
   "source": [
    "### 基于 Tensorflow 的实现"
   ]
  },
  {
   "cell_type": "code",
   "execution_count": 10,
   "metadata": {},
   "outputs": [
    {
     "name": "stdout",
     "output_type": "stream",
     "text": [
      "2.1.0\n"
     ]
    },
    {
     "data": {
      "image/png": "[encoded data removed]",
      "text/plain": [
       "<Figure size 432x288 with 1 Axes>"
      ]
     },
     "metadata": {
      "needs_background": "light"
     },
     "output_type": "display_data"
    },
    {
     "name": "stdout",
     "output_type": "stream",
     "text": [
      "<tf.Variable 'Variable:0' shape=(6, 3) dtype=float32, numpy=\n",
      "array([[-1.1320447 ,  0.3901746 ,  2.2369921 ],\n",
      "       [-0.48116514,  0.05242732,  2.112321  ],\n",
      "       [-0.6934797 , -1.211695  ,  1.402821  ],\n",
      "       [-2.1680768 , -1.2164221 ,  0.6541038 ],\n",
      "       [-1.1313654 ,  0.78087276,  2.0872607 ],\n",
      "       [-1.5207676 ,  1.34338   ,  2.1233516 ]], dtype=float32)>\n",
      "<tf.Variable 'Variable:0' shape=(4, 3) dtype=float32, numpy=\n",
      "array([[ 0.1458859 ,  0.16502438,  2.356139  ],\n",
      "       [ 0.17939557, -0.64301574,  2.3745816 ],\n",
      "       [-1.9784566 , -0.06871409,  0.9401924 ],\n",
      "       [-0.89302886,  0.06262701,  1.7542328 ]], dtype=float32)>\n",
      "tf.Tensor(\n",
      "[[5. 5. 0. 5.]\n",
      " [5. 0. 3. 4.]\n",
      " [3. 4. 0. 3.]\n",
      " [0. 0. 5. 3.]\n",
      " [5. 4. 4. 5.]\n",
      " [5. 4. 5. 5.]], shape=(6, 4), dtype=float32)\n",
      "tf.Tensor(\n",
      "[[5.1699033 4.857948  4.316094  4.959589 ]\n",
      " [4.915378  4.895848  2.93435   4.13848  ]\n",
      " [3.004113  3.9858446 2.7742016 3.004287 ]\n",
      " [1.0241283 1.946458  4.9880147 3.0074246]\n",
      " [4.881689  4.2512956 4.147127  4.720787 ]\n",
      " [5.0027432 3.9054382 4.9128222 5.167074 ]], shape=(6, 4), dtype=float32)\n"
     ]
    }
   ],
   "source": [
    "\n",
    "import tensorflow as tf \n",
    "print(tf.__version__)\n",
    "\n",
    "import numpy as np\n",
    "import matplotlib.pyplot as plt\n",
    "\n",
    "R = tf.constant([[5, 5, 0, 5], [5, 0, 3, 4], [3, 4, 0, 3], [0, 0, 5, 3],\n",
    "              [5, 4, 4, 5], [5, 4, 5, 5]], dtype=tf.float32)\n",
    "\n",
    "n = 6 # 用户数, R 的行数\n",
    "m = 4 # 物品数，R 的列数\n",
    "k = 3 # 隐向量的维数\n",
    "lr = 0.02\n",
    "np.random.seed(123)\n",
    "U = tf.Variable(np.random.randn(n, k), dtype=tf.float32)\n",
    "V = tf.Variable(np.random.randn(m, k), dtype=tf.float32)\n",
    "\n",
    "def mse(R, U, V, lambda_=0.01):\n",
    "    mask = R > 0 \n",
    "    l = tf.reduce_sum(((R - tf.matmul(U, tf.transpose(V)))**2 * tf.cast(mask, tf.float32)))\n",
    "    l += lambda_ * tf.linalg.norm(U)**2\n",
    "    l += lambda_ * tf.linalg.norm(V)**2\n",
    "    return l\n",
    "\n",
    "optimizer = tf.keras.optimizers.SGD(\n",
    "    learning_rate=lr, momentum=0.0, nesterov=False\n",
    ")\n",
    "\n",
    "n_epochs = 100\n",
    "loss_list = []\n",
    "for epoch in range(n_epochs):\n",
    "    with tf.GradientTape() as tape:\n",
    "        loss = mse(R, U, V)\n",
    "    grads = tape.gradient(loss, [U, V])\n",
    "    optimizer.apply_gradients(zip(grads, [U, V]))\n",
    "    loss_list.append(loss.numpy())\n",
    "\n",
    "# 打印loss的变化\n",
    "plt.plot(loss_list)\n",
    "plt.title('loss')\n",
    "plt.show()\n",
    "\n",
    "print(U)\n",
    "print(V)\n",
    "print(R)\n",
    "print(tf.matmul(U, tf.transpose(V)))"
   ]
  },
  {
   "cell_type": "markdown",
   "metadata": {},
   "source": [
    "# References\n",
    "1. [推荐系统（2）—LFM（Latent Factor Model）模型 - 雁渡的寒潭 - 博客园](https://www.cnblogs.com/tbiiann/p/6535189.html)"
   ]
  }
 ],
 "metadata": {
  "kernelspec": {
   "display_name": "Python [conda env:tensorflow2]",
   "language": "python",
   "name": "conda-env-tensorflow2-py"
  },
  "language_info": {
   "codemirror_mode": {
    "name": "ipython",
    "version": 3
   },
   "file_extension": ".py",
   "mimetype": "text/x-python",
   "name": "python",
   "nbconvert_exporter": "python",
   "pygments_lexer": "ipython3",
   "version": "3.6.10"
  }
 },
 "nbformat": 4,
 "nbformat_minor": 4
}
